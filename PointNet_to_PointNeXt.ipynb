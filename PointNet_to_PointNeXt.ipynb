{
 "cells": [
  {
   "cell_type": "markdown",
   "id": "0f1e4dac",
   "metadata": {},
   "source": [
    "# Self Supervised PointNeXt using BYOL"
   ]
  },
  {
   "cell_type": "markdown",
   "id": "f38f21fa",
   "metadata": {},
   "source": [
    "### Let's first start with a working implementation of PointNet"
   ]
  },
  {
   "cell_type": "code",
   "execution_count": null,
   "id": "9fc65cbc",
   "metadata": {},
   "outputs": [
    {
     "name": "stdout",
     "output_type": "stream",
     "text": [
      "WARNING:tensorflow:Deprecation warnings have been disabled. Set TF_ENABLE_DEPRECATION_WARNINGS=1 to re-enable them.\n"
     ]
    },
    {
     "name": "stderr",
     "output_type": "stream",
     "text": [
      "2025-07-18 11:47:17.324181: I tensorflow/stream_executor/platform/default/dso_loader.cc:50] Successfully opened dynamic library libcudart.so.12\n",
      "WARNING:root:Limited tf.compat.v2.summary API due to missing TensorBoard installation.\n"
     ]
    }
   ],
   "source": [
    "# import modules\n",
    "import os\n",
    "import glob\n",
    "import trimesh\n",
    "import numpy as np\n",
    "import tensorflow as tf\n",
    "from tensorflow import keras\n",
    "from tensorflow.keras import layers\n",
    "from matplotlib import pyplot as plt\n",
    "import math\n",
    "import sys\n",
    "\n",
    "#tf.random.set_seed(1234)"
   ]
  },
  {
   "cell_type": "code",
   "execution_count": null,
   "id": "7c97fa70",
   "metadata": {},
   "outputs": [],
   "source": [
    "# import module given by PointNet authors\n",
    "import utils.tf_util as tf_util\n"
   ]
  },
  {
   "cell_type": "code",
   "execution_count": null,
   "id": "92cbd2b2",
   "metadata": {},
   "outputs": [
    {
     "name": "stdout",
     "output_type": "stream",
     "text": [
      "1.15.5\n"
     ]
    },
    {
     "name": "stderr",
     "output_type": "stream",
     "text": [
      "2025-07-18 11:22:08.213552: I tensorflow/core/platform/profile_utils/cpu_utils.cc:109] CPU Frequency: 2599990000 Hz\n",
      "2025-07-18 11:22:08.214088: I tensorflow/compiler/xla/service/service.cc:168] XLA service 0x35cc8e00 initialized for platform Host (this does not guarantee that XLA will be used). Devices:\n",
      "2025-07-18 11:22:08.214102: I tensorflow/compiler/xla/service/service.cc:176]   StreamExecutor device (0): Host, Default Version\n",
      "2025-07-18 11:22:08.217113: I tensorflow/stream_executor/platform/default/dso_loader.cc:50] Successfully opened dynamic library libcuda.so.1\n",
      "2025-07-18 11:22:08.459780: I tensorflow/stream_executor/cuda/cuda_gpu_executor.cc:1082] successful NUMA node read from SysFS had negative value (-1), but there must be at least one NUMA node, so returning NUMA node zero\n",
      "2025-07-18 11:22:08.460968: I tensorflow/compiler/xla/service/service.cc:168] XLA service 0x3216f2f0 initialized for platform CUDA (this does not guarantee that XLA will be used). Devices:\n",
      "2025-07-18 11:22:08.461013: I tensorflow/compiler/xla/service/service.cc:176]   StreamExecutor device (0): Quadro T2000, Compute Capability 7.5\n",
      "2025-07-18 11:22:08.461865: I tensorflow/stream_executor/cuda/cuda_gpu_executor.cc:1082] successful NUMA node read from SysFS had negative value (-1), but there must be at least one NUMA node, so returning NUMA node zero\n",
      "2025-07-18 11:22:08.462728: I tensorflow/core/common_runtime/gpu/gpu_device.cc:1674] Found device 0 with properties: \n",
      "name: Quadro T2000 major: 7 minor: 5 memoryClockRate(GHz): 1.785\n",
      "pciBusID: 0000:01:00.0\n",
      "2025-07-18 11:22:08.462751: I tensorflow/stream_executor/platform/default/dso_loader.cc:50] Successfully opened dynamic library libcudart.so.12\n"
     ]
    },
    {
     "name": "stdout",
     "output_type": "stream",
     "text": [
      "Is GPU available: True\n"
     ]
    },
    {
     "name": "stderr",
     "output_type": "stream",
     "text": [
      "2025-07-18 11:22:08.699832: I tensorflow/stream_executor/platform/default/dso_loader.cc:50] Successfully opened dynamic library libcublas.so.12\n",
      "2025-07-18 11:22:08.706628: I tensorflow/stream_executor/platform/default/dso_loader.cc:50] Successfully opened dynamic library libcufft.so.11\n",
      "2025-07-18 11:22:08.709157: I tensorflow/stream_executor/platform/default/dso_loader.cc:50] Successfully opened dynamic library libcurand.so.10\n",
      "2025-07-18 11:22:08.801762: I tensorflow/stream_executor/platform/default/dso_loader.cc:50] Successfully opened dynamic library libcusolver.so.11\n",
      "2025-07-18 11:22:08.801977: I tensorflow/stream_executor/platform/default/dso_loader.cc:50] Successfully opened dynamic library libcusparse.so.12\n",
      "2025-07-18 11:22:08.803148: I tensorflow/stream_executor/platform/default/dso_loader.cc:50] Successfully opened dynamic library libcudnn.so.8\n",
      "2025-07-18 11:22:08.803371: I tensorflow/stream_executor/cuda/cuda_gpu_executor.cc:1082] successful NUMA node read from SysFS had negative value (-1), but there must be at least one NUMA node, so returning NUMA node zero\n",
      "2025-07-18 11:22:08.804710: I tensorflow/stream_executor/cuda/cuda_gpu_executor.cc:1082] successful NUMA node read from SysFS had negative value (-1), but there must be at least one NUMA node, so returning NUMA node zero\n",
      "2025-07-18 11:22:08.805752: I tensorflow/core/common_runtime/gpu/gpu_device.cc:1802] Adding visible gpu devices: 0\n",
      "2025-07-18 11:22:08.806205: I tensorflow/stream_executor/platform/default/dso_loader.cc:50] Successfully opened dynamic library libcudart.so.12\n",
      "2025-07-18 11:22:08.827041: I tensorflow/core/common_runtime/gpu/gpu_device.cc:1214] Device interconnect StreamExecutor with strength 1 edge matrix:\n",
      "2025-07-18 11:22:08.827083: I tensorflow/core/common_runtime/gpu/gpu_device.cc:1220]      0 \n",
      "2025-07-18 11:22:08.827095: I tensorflow/core/common_runtime/gpu/gpu_device.cc:1233] 0:   N \n",
      "2025-07-18 11:22:08.827691: I tensorflow/stream_executor/cuda/cuda_gpu_executor.cc:1082] successful NUMA node read from SysFS had negative value (-1), but there must be at least one NUMA node, so returning NUMA node zero\n",
      "2025-07-18 11:22:08.828905: I tensorflow/stream_executor/cuda/cuda_gpu_executor.cc:1082] successful NUMA node read from SysFS had negative value (-1), but there must be at least one NUMA node, so returning NUMA node zero\n",
      "2025-07-18 11:22:08.829889: I tensorflow/core/common_runtime/gpu/gpu_device.cc:1359] Created TensorFlow device (/device:GPU:0 with 2591 MB memory) -> physical GPU (device: 0, name: Quadro T2000, pci bus id: 0000:01:00.0, compute capability: 7.5)\n"
     ]
    }
   ],
   "source": [
    "# check if GPU available\n",
    "print(tf.__version__)\n",
    "print(\"Is GPU available:\", tf.test.is_gpu_available())\n"
   ]
  },
  {
   "cell_type": "code",
   "execution_count": null,
   "id": "b0da0407",
   "metadata": {},
   "outputs": [],
   "source": []
  }
 ],
 "metadata": {
  "kernelspec": {
   "display_name": "PointNeXt",
   "language": "python",
   "name": "python3"
  },
  "language_info": {
   "codemirror_mode": {
    "name": "ipython",
    "version": 3
   },
   "file_extension": ".py",
   "mimetype": "text/x-python",
   "name": "python",
   "nbconvert_exporter": "python",
   "pygments_lexer": "ipython3",
   "version": "3.8.20"
  }
 },
 "nbformat": 4,
 "nbformat_minor": 5
}
