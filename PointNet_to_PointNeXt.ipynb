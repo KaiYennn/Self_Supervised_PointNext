{
 "cells": [
  {
   "cell_type": "markdown",
   "id": "0f1e4dac",
   "metadata": {},
   "source": [
    "# Self Supervised PointNeXt using BYOL"
   ]
  },
  {
   "cell_type": "markdown",
   "id": "f38f21fa",
   "metadata": {},
   "source": [
    "### Let's first start with a working implementation of PointNet"
   ]
  },
  {
   "cell_type": "code",
   "execution_count": null,
   "id": "9fc65cbc",
   "metadata": {},
   "outputs": [
    {
     "name": "stdout",
     "output_type": "stream",
     "text": [
      "WARNING:tensorflow:Deprecation warnings have been disabled. Set TF_ENABLE_DEPRECATION_WARNINGS=1 to re-enable them.\n"
     ]
    },
    {
     "name": "stderr",
     "output_type": "stream",
     "text": [
      "2025-07-18 23:39:10.060387: I tensorflow/stream_executor/platform/default/dso_loader.cc:50] Successfully opened dynamic library libcudart.so.12\n",
      "WARNING:root:Limited tf.compat.v2.summary API due to missing TensorBoard installation.\n"
     ]
    }
   ],
   "source": [
    "# import modules\n",
    "import os\n",
    "import glob\n",
    "import trimesh\n",
    "import numpy as np\n",
    "import tensorflow as tf\n",
    "from tensorflow import keras\n",
    "from tensorflow.keras import layers\n",
    "from matplotlib import pyplot as plt\n",
    "import math\n",
    "import sys\n",
    "import tf_util\n",
    "from utils.transform_nets import input_transform_net, feature_transform_net\n",
    "# BASE_DIR = os.path.dirname(os.path.abspath(__file__))\n",
    "# sys.path.append(BASE_DIR)\n",
    "# sys.path.append(os.path.join(BASE_DIR, '../utils'))\n",
    "\n",
    "\n",
    "\n",
    "#tf.random.set_seed(1234)"
   ]
  },
  {
   "cell_type": "code",
   "execution_count": null,
   "id": "7c97fa70",
   "metadata": {},
   "outputs": [],
   "source": [
    "# import module given by PointNet authors\n",
    "import utils.tf_util as tf_util\n",
    "import utils.transform_nets as transform_nets\n",
    "from utils.transform_nets import input_transform_net, feature_transform_net"
   ]
  },
  {
   "cell_type": "code",
   "execution_count": 5,
   "id": "92cbd2b2",
   "metadata": {},
   "outputs": [
    {
     "name": "stdout",
     "output_type": "stream",
     "text": [
      "Tensorflow Version: 1.15.5\n"
     ]
    },
    {
     "name": "stderr",
     "output_type": "stream",
     "text": [
      "2025-07-18 21:27:44.524118: I tensorflow/core/platform/profile_utils/cpu_utils.cc:109] CPU Frequency: 2599990000 Hz\n",
      "2025-07-18 21:27:44.524736: I tensorflow/compiler/xla/service/service.cc:168] XLA service 0x3b2b9850 initialized for platform Host (this does not guarantee that XLA will be used). Devices:\n",
      "2025-07-18 21:27:44.524751: I tensorflow/compiler/xla/service/service.cc:176]   StreamExecutor device (0): Host, Default Version\n",
      "2025-07-18 21:27:44.527548: I tensorflow/stream_executor/platform/default/dso_loader.cc:50] Successfully opened dynamic library libcuda.so.1\n"
     ]
    },
    {
     "name": "stdout",
     "output_type": "stream",
     "text": [
      "Is GPU available: False\n"
     ]
    },
    {
     "name": "stderr",
     "output_type": "stream",
     "text": [
      "2025-07-18 21:27:44.753569: I tensorflow/stream_executor/cuda/cuda_gpu_executor.cc:1082] successful NUMA node read from SysFS had negative value (-1), but there must be at least one NUMA node, so returning NUMA node zero\n",
      "2025-07-18 21:27:44.754587: I tensorflow/compiler/xla/service/service.cc:168] XLA service 0x3adc9e90 initialized for platform CUDA (this does not guarantee that XLA will be used). Devices:\n",
      "2025-07-18 21:27:44.754598: I tensorflow/compiler/xla/service/service.cc:176]   StreamExecutor device (0): Quadro T2000, Compute Capability 7.5\n",
      "2025-07-18 21:27:44.755220: I tensorflow/stream_executor/cuda/cuda_gpu_executor.cc:1082] successful NUMA node read from SysFS had negative value (-1), but there must be at least one NUMA node, so returning NUMA node zero\n",
      "2025-07-18 21:27:44.756099: I tensorflow/core/common_runtime/gpu/gpu_device.cc:1674] Found device 0 with properties: \n",
      "name: Quadro T2000 major: 7 minor: 5 memoryClockRate(GHz): 1.785\n",
      "pciBusID: 0000:01:00.0\n",
      "2025-07-18 21:27:44.756120: I tensorflow/stream_executor/platform/default/dso_loader.cc:50] Successfully opened dynamic library libcudart.so.12\n",
      "2025-07-18 21:27:44.823047: I tensorflow/stream_executor/platform/default/dso_loader.cc:50] Successfully opened dynamic library libcublas.so.12\n",
      "2025-07-18 21:27:44.830581: I tensorflow/stream_executor/platform/default/dso_loader.cc:50] Successfully opened dynamic library libcufft.so.11\n",
      "2025-07-18 21:27:44.832838: I tensorflow/stream_executor/platform/default/dso_loader.cc:50] Successfully opened dynamic library libcurand.so.10\n",
      "2025-07-18 21:27:44.927781: I tensorflow/stream_executor/platform/default/dso_loader.cc:50] Successfully opened dynamic library libcusolver.so.11\n",
      "2025-07-18 21:27:44.927958: I tensorflow/stream_executor/platform/default/dso_loader.cc:50] Successfully opened dynamic library libcusparse.so.12\n",
      "2025-07-18 21:27:44.928291: W tensorflow/stream_executor/platform/default/dso_loader.cc:61] Could not load dynamic library 'libcudnn.so.8'; dlerror: libcudnn.so.8: cannot open shared object file: No such file or directory\n",
      "2025-07-18 21:27:44.928318: W tensorflow/core/common_runtime/gpu/gpu_device.cc:1697] Cannot dlopen some GPU libraries. Please make sure the missing libraries mentioned above are installed properly if you would like to use GPU. Follow the guide at https://www.tensorflow.org/install/gpu for how to download and setup the required libraries for your platform.\n",
      "Skipping registering GPU devices...\n",
      "2025-07-18 21:27:44.928351: I tensorflow/core/common_runtime/gpu/gpu_device.cc:1214] Device interconnect StreamExecutor with strength 1 edge matrix:\n",
      "2025-07-18 21:27:44.928366: I tensorflow/core/common_runtime/gpu/gpu_device.cc:1220]      0 \n",
      "2025-07-18 21:27:44.928379: I tensorflow/core/common_runtime/gpu/gpu_device.cc:1233] 0:   N \n"
     ]
    }
   ],
   "source": [
    "# check if GPU available\n",
    "print(f\"Tensorflow Version: {tf.__version__}\")\n",
    "print(\"Is GPU available:\", tf.test.is_gpu_available())\n"
   ]
  },
  {
   "cell_type": "markdown",
   "id": "46f63473",
   "metadata": {},
   "source": [
    "### Traditional PointNet Architecture\n"
   ]
  },
  {
   "cell_type": "markdown",
   "id": "9723e9b9",
   "metadata": {},
   "source": [
    "![PointNet](images/pointnet.jpg)"
   ]
  },
  {
   "cell_type": "code",
   "execution_count": null,
   "id": "b0da0407",
   "metadata": {},
   "outputs": [],
   "source": [
    "\n",
    "def placeholder_inputs(batch_size, num_point):\n",
    "    pointclouds_pl = tf.placeholder(tf.float32, shape=(batch_size, num_point, 3))\n",
    "    labels_pl = tf.placeholder(tf.int32, shape=(batch_size))\n",
    "    return pointclouds_pl, labels_pl\n",
    "\n",
    "\n",
    "def get_model(point_cloud, is_training, bn_decay=None):\n",
    "    \"\"\" Classification PointNet, input is BxNx3, output Bx40 \"\"\"\n",
    "    batch_size = point_cloud.get_shape()[0].value\n",
    "    num_point = point_cloud.get_shape()[1].value\n",
    "    end_points = {}\n",
    "\n",
    "    with tf.variable_scope('transform_net1') as sc:\n",
    "        transform = input_transform_net(point_cloud, is_training, bn_decay, K=3)\n",
    "    point_cloud_transformed = tf.matmul(point_cloud, transform)\n",
    "    input_image = tf.expand_dims(point_cloud_transformed, -1)\n",
    "\n",
    "    net = tf_util.conv2d(input_image, 64, [1,3],\n",
    "                         padding='VALID', stride=[1,1],\n",
    "                         bn=True, is_training=is_training,\n",
    "                         scope='conv1', bn_decay=bn_decay)\n",
    "    net = tf_util.conv2d(net, 64, [1,1],\n",
    "                         padding='VALID', stride=[1,1],\n",
    "                         bn=True, is_training=is_training,\n",
    "                         scope='conv2', bn_decay=bn_decay)\n",
    "\n",
    "    with tf.variable_scope('transform_net2') as sc:\n",
    "        transform = feature_transform_net(net, is_training, bn_decay, K=64)\n",
    "    end_points['transform'] = transform\n",
    "    net_transformed = tf.matmul(tf.squeeze(net, axis=[2]), transform)\n",
    "    net_transformed = tf.expand_dims(net_transformed, [2])\n",
    "\n",
    "    net = tf_util.conv2d(net_transformed, 64, [1,1],\n",
    "                         padding='VALID', stride=[1,1],\n",
    "                         bn=True, is_training=is_training,\n",
    "                         scope='conv3', bn_decay=bn_decay)\n",
    "    net = tf_util.conv2d(net, 128, [1,1],\n",
    "                         padding='VALID', stride=[1,1],\n",
    "                         bn=True, is_training=is_training,\n",
    "                         scope='conv4', bn_decay=bn_decay)\n",
    "    net = tf_util.conv2d(net, 1024, [1,1],\n",
    "                         padding='VALID', stride=[1,1],\n",
    "                         bn=True, is_training=is_training,\n",
    "                         scope='conv5', bn_decay=bn_decay)\n",
    "\n",
    "    # Symmetric function: max pooling\n",
    "    net = tf_util.max_pool2d(net, [num_point,1],\n",
    "                             padding='VALID', scope='maxpool')\n",
    "\n",
    "    net = tf.reshape(net, [batch_size, -1])\n",
    "    net = tf_util.fully_connected(net, 512, bn=True, is_training=is_training,\n",
    "                                  scope='fc1', bn_decay=bn_decay)\n",
    "    net = tf_util.dropout(net, keep_prob=0.7, is_training=is_training,\n",
    "                          scope='dp1')\n",
    "    net = tf_util.fully_connected(net, 256, bn=True, is_training=is_training,\n",
    "                                  scope='fc2', bn_decay=bn_decay)\n",
    "    net = tf_util.dropout(net, keep_prob=0.7, is_training=is_training,\n",
    "                          scope='dp2')\n",
    "    net = tf_util.fully_connected(net, 40, activation_fn=None, scope='fc3')\n",
    "\n",
    "    return net, end_points\n",
    "\n",
    "\n",
    "def get_loss(pred, label, end_points, reg_weight=0.001):\n",
    "    \"\"\" pred: B*NUM_CLASSES,\n",
    "        label: B, \"\"\"\n",
    "    loss = tf.nn.sparse_softmax_cross_entropy_with_logits(logits=pred, labels=label)\n",
    "    classify_loss = tf.reduce_mean(loss)\n",
    "    tf.summary.scalar('classify loss', classify_loss)\n",
    "\n",
    "    # Enforce the transformation as orthogonal matrix\n",
    "    transform = end_points['transform'] # BxKxK\n",
    "    K = transform.get_shape()[1].value\n",
    "    mat_diff = tf.matmul(transform, tf.transpose(transform, perm=[0,2,1]))\n",
    "    mat_diff -= tf.constant(np.eye(K), dtype=tf.float32)\n",
    "    mat_diff_loss = tf.nn.l2_loss(mat_diff) \n",
    "    tf.summary.scalar('mat loss', mat_diff_loss)\n",
    "\n",
    "    return classify_loss + mat_diff_loss * reg_weight\n",
    "\n",
    "\n",
    "if __name__=='__main__':\n",
    "    with tf.Graph().as_default():\n",
    "        inputs = tf.zeros((32,1024,3))\n",
    "        outputs = get_model(inputs, tf.constant(True))\n",
    "        print(outputs)"
   ]
  },
  {
   "cell_type": "markdown",
   "id": "a4b4c834",
   "metadata": {},
   "source": [
    "### PointNeXt Architecture"
   ]
  },
  {
   "cell_type": "markdown",
   "id": "bd5758e2",
   "metadata": {},
   "source": [
    "![PointNeXt](images/PointNeXt.jpg) \\\n",
    "PointNeXt for segmentation"
   ]
  },
  {
   "cell_type": "markdown",
   "id": "910342db",
   "metadata": {},
   "source": [
    "![classification](images/Pointnext_classfication.png)"
   ]
  },
  {
   "cell_type": "code",
   "execution_count": null,
   "id": "4fe7fe87",
   "metadata": {},
   "outputs": [],
   "source": [
    "def get_model(point_cloud, is_training, bn_decay=None):\n",
    "    \"\"\" Classification PointNeXt, input is BxNx3, output Bx40 \"\"\"\n",
    "    batch_size = point_cloud.get_shape()[0].value\n",
    "    num_point = point_cloud.get_shape()[1].value\n",
    "    end_points = {}\n",
    "\n",
    "    with tf.variable_scope('transform_net1') as sc:\n",
    "        transform = input_transform_net(point_cloud, is_training, bn_decay, K=3)\n",
    "    point_cloud_transformed = tf.matmul(point_cloud, transform)\n",
    "    input_image = tf.expand_dims(point_cloud_transformed, -1)\n",
    "\n",
    "    net = tf_util.conv2d(input_image, 64, [1,3],\n",
    "                         padding='VALID', stride=[1,1],\n",
    "                         bn=True, is_training=is_training,\n",
    "                         scope='conv1', bn_decay=bn_decay)\n",
    "    net = tf_util.conv2d(net, 64, [1,1],\n",
    "                         padding='VALID', stride=[1,1],\n",
    "                         bn=True, is_training=is_training,\n",
    "                         scope='conv2', bn_decay=bn_decay)\n",
    "\n",
    "    with tf.variable_scope('transform_net2') as sc:\n",
    "        transform = feature_transform_net(net, is_training, bn_decay, K=64)\n",
    "    end_points['transform'] = transform\n",
    "    net_transformed = tf.matmul(tf.squeeze(net, axis=[2]), transform)\n",
    "    net_transformed = tf.expand_dims(net_transformed, [2])\n",
    "\n",
    "    net = tf_util.conv2d(net_transformed, 64, [1,1],\n",
    "                         padding='VALID', stride=[1,1],\n",
    "                         bn=True, is_training=is_training,\n",
    "                         scope='conv3', bn_decay=bn_decay)\n",
    "    net = tf_util.conv2d(net, 128, [1,1],\n",
    "                         padding='VALID', stride=[1,1],\n",
    "                         bn=True, is_training=is_training,\n",
    "                         scope='conv4', bn_decay=bn_decay)\n",
    "    net = tf_util.conv2d(net, 1024, [1,1],\n",
    "                         padding='VALID', stride=[1,1],\n",
    "                         bn=True, is_training=is_training,\n",
    "                         scope='conv5', bn_decay=bn_decay)"
   ]
  },
  {
   "cell_type": "code",
   "execution_count": null,
   "id": "cf49b38e",
   "metadata": {},
   "outputs": [],
   "source": []
  }
 ],
 "metadata": {
  "kernelspec": {
   "display_name": "PointNeXt",
   "language": "python",
   "name": "python3"
  },
  "language_info": {
   "codemirror_mode": {
    "name": "ipython",
    "version": 3
   },
   "file_extension": ".py",
   "mimetype": "text/x-python",
   "name": "python",
   "nbconvert_exporter": "python",
   "pygments_lexer": "ipython3",
   "version": "3.8.20"
  }
 },
 "nbformat": 4,
 "nbformat_minor": 5
}
